{
 "cells": [
  {
   "cell_type": "markdown",
   "id": "87fd99e5-6a85-47c3-97a7-68592aadb33c",
   "metadata": {},
   "source": [
    "# Melbourne Housing Price Prediction Analysis"
   ]
  },
  {
   "cell_type": "markdown",
   "id": "8ac5e41a",
   "metadata": {},
   "source": [
    "### Data Exploration and Visualization"
   ]
  },
  {
   "cell_type": "code",
   "execution_count": 1,
   "id": "50d72906",
   "metadata": {},
   "outputs": [],
   "source": [
    "import pandas as pd\n",
    "import numpy as np\n",
    "import seaborn as sns\n",
    "import matplotlib.pyplot as plt\n",
    "import matplotlib.ticker as ticker\n",
    "from sklearn.preprocessing import StandardScaler\n",
    "from sklearn.model_selection import train_test_split\n",
    "from sklearn.linear_model import LinearRegression\n",
    "from sklearn.metrics import mean_squared_error\n",
    "import statsmodels.api as sm\n",
    "from sklearn.model_selection import cross_val_score, KFold\n",
    "from sklearn.metrics import make_scorer\n",
    "from sklearn.linear_model import LinearRegression\n",
    "from sklearn.metrics import mean_squared_error, r2_score\n",
    "from statsmodels.regression.linear_model import OLS"
   ]
  },
  {
   "cell_type": "code",
   "execution_count": 2,
   "id": "2908119f",
   "metadata": {},
   "outputs": [
    {
     "data": {
      "text/html": [
       "<div>\n",
       "<style scoped>\n",
       "    .dataframe tbody tr th:only-of-type {\n",
       "        vertical-align: middle;\n",
       "    }\n",
       "\n",
       "    .dataframe tbody tr th {\n",
       "        vertical-align: top;\n",
       "    }\n",
       "\n",
       "    .dataframe thead th {\n",
       "        text-align: right;\n",
       "    }\n",
       "</style>\n",
       "<table border=\"1\" class=\"dataframe\">\n",
       "  <thead>\n",
       "    <tr style=\"text-align: right;\">\n",
       "      <th></th>\n",
       "      <th>Suburb</th>\n",
       "      <th>Address</th>\n",
       "      <th>Rooms</th>\n",
       "      <th>Type</th>\n",
       "      <th>Price</th>\n",
       "      <th>Method</th>\n",
       "      <th>SellerG</th>\n",
       "      <th>Date</th>\n",
       "      <th>Distance</th>\n",
       "      <th>Postcode</th>\n",
       "      <th>...</th>\n",
       "      <th>Bathroom</th>\n",
       "      <th>Car</th>\n",
       "      <th>Landsize</th>\n",
       "      <th>BuildingArea</th>\n",
       "      <th>YearBuilt</th>\n",
       "      <th>CouncilArea</th>\n",
       "      <th>Lattitude</th>\n",
       "      <th>Longtitude</th>\n",
       "      <th>Regionname</th>\n",
       "      <th>Propertycount</th>\n",
       "    </tr>\n",
       "  </thead>\n",
       "  <tbody>\n",
       "    <tr>\n",
       "      <th>0</th>\n",
       "      <td>Thornbury</td>\n",
       "      <td>7/67 Pender St</td>\n",
       "      <td>2</td>\n",
       "      <td>u</td>\n",
       "      <td>438000.0</td>\n",
       "      <td>SP</td>\n",
       "      <td>Love</td>\n",
       "      <td>22/08/2016</td>\n",
       "      <td>6.5</td>\n",
       "      <td>3071</td>\n",
       "      <td>...</td>\n",
       "      <td>1.0</td>\n",
       "      <td>1.0</td>\n",
       "      <td>0.0</td>\n",
       "      <td>66.0</td>\n",
       "      <td>1970.0</td>\n",
       "      <td>Darebin City Council</td>\n",
       "      <td>-37.75410</td>\n",
       "      <td>145.00880</td>\n",
       "      <td>Northern Metropolitan</td>\n",
       "      <td>8870</td>\n",
       "    </tr>\n",
       "    <tr>\n",
       "      <th>1</th>\n",
       "      <td>Coburg</td>\n",
       "      <td>32 Rose St</td>\n",
       "      <td>2</td>\n",
       "      <td>h</td>\n",
       "      <td>901000.0</td>\n",
       "      <td>S</td>\n",
       "      <td>Peter</td>\n",
       "      <td>27/06/2016</td>\n",
       "      <td>7.8</td>\n",
       "      <td>3058</td>\n",
       "      <td>...</td>\n",
       "      <td>1.0</td>\n",
       "      <td>1.0</td>\n",
       "      <td>545.0</td>\n",
       "      <td>107.0</td>\n",
       "      <td>1940.0</td>\n",
       "      <td>Darebin City Council</td>\n",
       "      <td>-37.74450</td>\n",
       "      <td>144.94710</td>\n",
       "      <td>Northern Metropolitan</td>\n",
       "      <td>11204</td>\n",
       "    </tr>\n",
       "    <tr>\n",
       "      <th>2</th>\n",
       "      <td>Bentleigh East</td>\n",
       "      <td>2/25 Brooks St</td>\n",
       "      <td>3</td>\n",
       "      <td>u</td>\n",
       "      <td>800000.0</td>\n",
       "      <td>S</td>\n",
       "      <td>Woodards</td>\n",
       "      <td>28/05/2016</td>\n",
       "      <td>13.9</td>\n",
       "      <td>3165</td>\n",
       "      <td>...</td>\n",
       "      <td>2.0</td>\n",
       "      <td>2.0</td>\n",
       "      <td>261.0</td>\n",
       "      <td>NaN</td>\n",
       "      <td>NaN</td>\n",
       "      <td>Glen Eira City Council</td>\n",
       "      <td>-37.91630</td>\n",
       "      <td>145.07790</td>\n",
       "      <td>Southern Metropolitan</td>\n",
       "      <td>10969</td>\n",
       "    </tr>\n",
       "    <tr>\n",
       "      <th>3</th>\n",
       "      <td>Templestowe Lower</td>\n",
       "      <td>2/35 John St</td>\n",
       "      <td>3</td>\n",
       "      <td>t</td>\n",
       "      <td>1155000.0</td>\n",
       "      <td>S</td>\n",
       "      <td>Jellis</td>\n",
       "      <td>25/11/2017</td>\n",
       "      <td>12.4</td>\n",
       "      <td>3107</td>\n",
       "      <td>...</td>\n",
       "      <td>NaN</td>\n",
       "      <td>NaN</td>\n",
       "      <td>NaN</td>\n",
       "      <td>NaN</td>\n",
       "      <td>NaN</td>\n",
       "      <td>Manningham City Council</td>\n",
       "      <td>NaN</td>\n",
       "      <td>NaN</td>\n",
       "      <td>Eastern Metropolitan</td>\n",
       "      <td>5420</td>\n",
       "    </tr>\n",
       "    <tr>\n",
       "      <th>4</th>\n",
       "      <td>South Yarra</td>\n",
       "      <td>1/35 Marne St</td>\n",
       "      <td>3</td>\n",
       "      <td>u</td>\n",
       "      <td>1630000.0</td>\n",
       "      <td>PI</td>\n",
       "      <td>Jellis</td>\n",
       "      <td>10/9/2016</td>\n",
       "      <td>3.3</td>\n",
       "      <td>3141</td>\n",
       "      <td>...</td>\n",
       "      <td>1.0</td>\n",
       "      <td>1.0</td>\n",
       "      <td>0.0</td>\n",
       "      <td>NaN</td>\n",
       "      <td>NaN</td>\n",
       "      <td>Melbourne City Council</td>\n",
       "      <td>-37.83590</td>\n",
       "      <td>144.98390</td>\n",
       "      <td>Southern Metropolitan</td>\n",
       "      <td>14887</td>\n",
       "    </tr>\n",
       "    <tr>\n",
       "      <th>...</th>\n",
       "      <td>...</td>\n",
       "      <td>...</td>\n",
       "      <td>...</td>\n",
       "      <td>...</td>\n",
       "      <td>...</td>\n",
       "      <td>...</td>\n",
       "      <td>...</td>\n",
       "      <td>...</td>\n",
       "      <td>...</td>\n",
       "      <td>...</td>\n",
       "      <td>...</td>\n",
       "      <td>...</td>\n",
       "      <td>...</td>\n",
       "      <td>...</td>\n",
       "      <td>...</td>\n",
       "      <td>...</td>\n",
       "      <td>...</td>\n",
       "      <td>...</td>\n",
       "      <td>...</td>\n",
       "      <td>...</td>\n",
       "      <td>...</td>\n",
       "    </tr>\n",
       "    <tr>\n",
       "      <th>494</th>\n",
       "      <td>Sunshine</td>\n",
       "      <td>74 Hertford Rd</td>\n",
       "      <td>2</td>\n",
       "      <td>h</td>\n",
       "      <td>965000.0</td>\n",
       "      <td>S</td>\n",
       "      <td>Barry</td>\n",
       "      <td>26/08/2017</td>\n",
       "      <td>10.5</td>\n",
       "      <td>3020</td>\n",
       "      <td>...</td>\n",
       "      <td>1.0</td>\n",
       "      <td>1.0</td>\n",
       "      <td>NaN</td>\n",
       "      <td>NaN</td>\n",
       "      <td>NaN</td>\n",
       "      <td>Brimbank City Council</td>\n",
       "      <td>-37.78227</td>\n",
       "      <td>144.84038</td>\n",
       "      <td>Western Metropolitan</td>\n",
       "      <td>3755</td>\n",
       "    </tr>\n",
       "    <tr>\n",
       "      <th>495</th>\n",
       "      <td>Springvale</td>\n",
       "      <td>15 Phillip Av</td>\n",
       "      <td>3</td>\n",
       "      <td>h</td>\n",
       "      <td>721000.0</td>\n",
       "      <td>S</td>\n",
       "      <td>Hall</td>\n",
       "      <td>24/06/2017</td>\n",
       "      <td>20.8</td>\n",
       "      <td>3171</td>\n",
       "      <td>...</td>\n",
       "      <td>NaN</td>\n",
       "      <td>NaN</td>\n",
       "      <td>NaN</td>\n",
       "      <td>NaN</td>\n",
       "      <td>NaN</td>\n",
       "      <td>Greater Dandenong City Council</td>\n",
       "      <td>NaN</td>\n",
       "      <td>NaN</td>\n",
       "      <td>South-Eastern Metropolitan</td>\n",
       "      <td>7412</td>\n",
       "    </tr>\n",
       "    <tr>\n",
       "      <th>496</th>\n",
       "      <td>Middle Park</td>\n",
       "      <td>150 Page St</td>\n",
       "      <td>3</td>\n",
       "      <td>h</td>\n",
       "      <td>1750000.0</td>\n",
       "      <td>VB</td>\n",
       "      <td>Greg</td>\n",
       "      <td>27/05/2017</td>\n",
       "      <td>3.0</td>\n",
       "      <td>3206</td>\n",
       "      <td>...</td>\n",
       "      <td>2.0</td>\n",
       "      <td>0.0</td>\n",
       "      <td>138.0</td>\n",
       "      <td>155.0</td>\n",
       "      <td>1885.0</td>\n",
       "      <td>Port Phillip City Council</td>\n",
       "      <td>-37.84962</td>\n",
       "      <td>144.95856</td>\n",
       "      <td>Southern Metropolitan</td>\n",
       "      <td>2019</td>\n",
       "    </tr>\n",
       "    <tr>\n",
       "      <th>497</th>\n",
       "      <td>Glenroy</td>\n",
       "      <td>14 William St</td>\n",
       "      <td>3</td>\n",
       "      <td>h</td>\n",
       "      <td>501000.0</td>\n",
       "      <td>SP</td>\n",
       "      <td>Raine</td>\n",
       "      <td>28/05/2016</td>\n",
       "      <td>13.0</td>\n",
       "      <td>3046</td>\n",
       "      <td>...</td>\n",
       "      <td>1.0</td>\n",
       "      <td>1.0</td>\n",
       "      <td>348.0</td>\n",
       "      <td>NaN</td>\n",
       "      <td>NaN</td>\n",
       "      <td>Moreland City Council</td>\n",
       "      <td>-37.71190</td>\n",
       "      <td>144.91110</td>\n",
       "      <td>Northern Metropolitan</td>\n",
       "      <td>8870</td>\n",
       "    </tr>\n",
       "    <tr>\n",
       "      <th>498</th>\n",
       "      <td>Heidelberg Heights</td>\n",
       "      <td>1 Dennis St</td>\n",
       "      <td>3</td>\n",
       "      <td>h</td>\n",
       "      <td>NaN</td>\n",
       "      <td>S</td>\n",
       "      <td>Barry</td>\n",
       "      <td>24/06/2017</td>\n",
       "      <td>8.8</td>\n",
       "      <td>3081</td>\n",
       "      <td>...</td>\n",
       "      <td>1.0</td>\n",
       "      <td>1.0</td>\n",
       "      <td>650.0</td>\n",
       "      <td>NaN</td>\n",
       "      <td>NaN</td>\n",
       "      <td>Banyule City Council</td>\n",
       "      <td>-37.74142</td>\n",
       "      <td>145.05535</td>\n",
       "      <td>Eastern Metropolitan</td>\n",
       "      <td>2947</td>\n",
       "    </tr>\n",
       "  </tbody>\n",
       "</table>\n",
       "<p>499 rows × 21 columns</p>\n",
       "</div>"
      ],
      "text/plain": [
       "                 Suburb         Address  Rooms Type      Price Method  \\\n",
       "0             Thornbury  7/67 Pender St      2    u   438000.0     SP   \n",
       "1                Coburg      32 Rose St      2    h   901000.0      S   \n",
       "2        Bentleigh East  2/25 Brooks St      3    u   800000.0      S   \n",
       "3     Templestowe Lower    2/35 John St      3    t  1155000.0      S   \n",
       "4           South Yarra   1/35 Marne St      3    u  1630000.0     PI   \n",
       "..                  ...             ...    ...  ...        ...    ...   \n",
       "494            Sunshine  74 Hertford Rd      2    h   965000.0      S   \n",
       "495          Springvale   15 Phillip Av      3    h   721000.0      S   \n",
       "496         Middle Park     150 Page St      3    h  1750000.0     VB   \n",
       "497             Glenroy   14 William St      3    h   501000.0     SP   \n",
       "498  Heidelberg Heights     1 Dennis St      3    h        NaN      S   \n",
       "\n",
       "      SellerG        Date  Distance  Postcode  ...  Bathroom  Car  Landsize  \\\n",
       "0        Love  22/08/2016       6.5      3071  ...       1.0  1.0       0.0   \n",
       "1       Peter  27/06/2016       7.8      3058  ...       1.0  1.0     545.0   \n",
       "2    Woodards  28/05/2016      13.9      3165  ...       2.0  2.0     261.0   \n",
       "3      Jellis  25/11/2017      12.4      3107  ...       NaN  NaN       NaN   \n",
       "4      Jellis   10/9/2016       3.3      3141  ...       1.0  1.0       0.0   \n",
       "..        ...         ...       ...       ...  ...       ...  ...       ...   \n",
       "494     Barry  26/08/2017      10.5      3020  ...       1.0  1.0       NaN   \n",
       "495      Hall  24/06/2017      20.8      3171  ...       NaN  NaN       NaN   \n",
       "496      Greg  27/05/2017       3.0      3206  ...       2.0  0.0     138.0   \n",
       "497     Raine  28/05/2016      13.0      3046  ...       1.0  1.0     348.0   \n",
       "498     Barry  24/06/2017       8.8      3081  ...       1.0  1.0     650.0   \n",
       "\n",
       "     BuildingArea  YearBuilt                     CouncilArea Lattitude  \\\n",
       "0            66.0     1970.0            Darebin City Council -37.75410   \n",
       "1           107.0     1940.0            Darebin City Council -37.74450   \n",
       "2             NaN        NaN          Glen Eira City Council -37.91630   \n",
       "3             NaN        NaN         Manningham City Council       NaN   \n",
       "4             NaN        NaN          Melbourne City Council -37.83590   \n",
       "..            ...        ...                             ...       ...   \n",
       "494           NaN        NaN           Brimbank City Council -37.78227   \n",
       "495           NaN        NaN  Greater Dandenong City Council       NaN   \n",
       "496         155.0     1885.0       Port Phillip City Council -37.84962   \n",
       "497           NaN        NaN           Moreland City Council -37.71190   \n",
       "498           NaN        NaN            Banyule City Council -37.74142   \n",
       "\n",
       "     Longtitude                  Regionname Propertycount  \n",
       "0     145.00880       Northern Metropolitan          8870  \n",
       "1     144.94710       Northern Metropolitan         11204  \n",
       "2     145.07790       Southern Metropolitan         10969  \n",
       "3           NaN        Eastern Metropolitan          5420  \n",
       "4     144.98390       Southern Metropolitan         14887  \n",
       "..          ...                         ...           ...  \n",
       "494   144.84038        Western Metropolitan          3755  \n",
       "495         NaN  South-Eastern Metropolitan          7412  \n",
       "496   144.95856       Southern Metropolitan          2019  \n",
       "497   144.91110       Northern Metropolitan          8870  \n",
       "498   145.05535        Eastern Metropolitan          2947  \n",
       "\n",
       "[499 rows x 21 columns]"
      ]
     },
     "execution_count": 2,
     "metadata": {},
     "output_type": "execute_result"
    }
   ],
   "source": [
    "data = pd.read_csv('Melbourne_housing.csv')\n",
    "data = data.loc[:, ~data.columns.str.contains('^Unnamed')]\n",
    "data"
   ]
  },
  {
   "cell_type": "code",
   "execution_count": null,
   "id": "1b1fa508",
   "metadata": {},
   "outputs": [],
   "source": [
    "data.columns"
   ]
  },
  {
   "cell_type": "code",
   "execution_count": null,
   "id": "4823532f",
   "metadata": {},
   "outputs": [],
   "source": [
    "data.info()"
   ]
  },
  {
   "cell_type": "code",
   "execution_count": null,
   "id": "614c25f1",
   "metadata": {},
   "outputs": [],
   "source": [
    "data.describe()"
   ]
  },
  {
   "cell_type": "code",
   "execution_count": null,
   "id": "f46a0dd2",
   "metadata": {},
   "outputs": [],
   "source": [
    "# find the value counts for suburbs and postcode\n",
    "print('Value counts for Suburb')\n",
    "print(data['Suburb'].value_counts(),'\\n\\n\\n')\n",
    "\n",
    "print('Value counts for Postcode')\n",
    "print(data['Postcode'].value_counts())"
   ]
  },
  {
   "cell_type": "code",
   "execution_count": null,
   "id": "d096ef6b",
   "metadata": {},
   "outputs": [],
   "source": [
    "# histgram to find house pricing distribution\n",
    "\n",
    "sns.histplot(data['Price'], bins=20, kde=True)\n",
    "\n",
    "# Format the x-axis and/or y-axis to regular format\n",
    "ax = plt.gca()  # Get the current axis\n",
    "ax.xaxis.set_major_formatter(ticker.StrMethodFormatter('{x:,.0f}'))\n",
    "\n",
    "# Histgram\n",
    "plt.xlabel('House Price')\n",
    "plt.ylabel('Frequency')\n",
    "plt.title('Histogram of Melbourne House Price')\n",
    "plt.show()"
   ]
  },
  {
   "cell_type": "code",
   "execution_count": null,
   "id": "99140e36",
   "metadata": {},
   "outputs": [],
   "source": [
    "# find the scatter plot for house price and number of rooms\n",
    "\n",
    "sns.scatterplot(data=data, x='Rooms', y='Price')\n",
    "\n",
    "# change axis number format\n",
    "ax = plt.gca()  \n",
    "ax.yaxis.set_major_formatter(ticker.StrMethodFormatter('{x:,.0f}'))\n",
    "\n",
    "plt.title('House Price vs Room Numbers')\n",
    "plt.xlabel('Number of Rooms')\n",
    "plt.ylabel('House Prices')\n",
    "\n",
    "# Show the plot\n",
    "plt.show()"
   ]
  },
  {
   "cell_type": "code",
   "execution_count": null,
   "id": "002edfe3",
   "metadata": {},
   "outputs": [],
   "source": [
    "# find distribution of house prices from different property types\n",
    "\n",
    "sns.boxplot(data=data, x='Type', y='Price')\n",
    "\n",
    "# change axis number format\n",
    "ax = plt.gca()  \n",
    "ax.yaxis.set_major_formatter(ticker.StrMethodFormatter('{x:,.0f}'))\n",
    "\n",
    "# Optional customization\n",
    "plt.title('House Price Distribution of Different Property Types')\n",
    "plt.xlabel('Property Types')\n",
    "plt.ylabel('House Prices')\n",
    "\n",
    "# Show the plot\n",
    "plt.show()"
   ]
  },
  {
   "attachments": {},
   "cell_type": "markdown",
   "id": "73639337",
   "metadata": {},
   "source": [
    "Based on the visual analysis of the Melbourne Housing dataset, it is observed that most houses are listed at approximately 1 million dollars, showing a positively skewed distribution. Furthermore, there is a noticeable trend where house prices generally increase with an increase in the number of rooms, particularly from 1 to 4 rooms. However, a marginal decrease in price is observed for houses with 5 rooms. It seems that the ideal number of rooms for a property is 4 in order for property owners to yield highest values for their property assets.\n",
    "\n",
    "Additionally, property types such as houses, cottages, villas, semis, and terraces tend to command the highest values. This is followed by townhouses, while units or duplexes are typically priced lower, making them the least expensive among the three property types."
   ]
  },
  {
   "cell_type": "markdown",
   "id": "30179f81",
   "metadata": {},
   "source": [
    "### Linear Regression Model Development"
   ]
  },
  {
   "cell_type": "code",
   "execution_count": 5,
   "id": "36c97930",
   "metadata": {},
   "outputs": [],
   "source": [
    "# drop unnecessay columns that do not affect the house prices prediction\n",
    "data.columns\n",
    "columns = ['Rooms', 'Type', 'Price', 'Distance', 'Bathroom', 'Car',\n",
    "       'Landsize', 'YearBuilt', 'Regionname', 'Propertycount']\n",
    "\n",
    "data = data.loc[:,columns]"
   ]
  },
  {
   "cell_type": "code",
   "execution_count": 6,
   "id": "05d2751f",
   "metadata": {},
   "outputs": [],
   "source": [
    "# fill NaN with some values rather than drop NaN values\n",
    "data['Bathroom'] = data['Bathroom'].fillna(data['Bathroom'].mean())\n",
    "data['Car'] = data['Car'].fillna(0.0)\n",
    "data['Landsize'] = data['Landsize'].fillna(data['Landsize'].mean())\n",
    "data['YearBuilt'] = data['YearBuilt'].fillna(data['YearBuilt'].mean())"
   ]
  },
  {
   "cell_type": "code",
   "execution_count": 7,
   "id": "f384da7a",
   "metadata": {},
   "outputs": [
    {
     "name": "stdout",
     "output_type": "stream",
     "text": [
      "<class 'pandas.core.frame.DataFrame'>\n",
      "Int64Index: 391 entries, 0 to 497\n",
      "Data columns (total 10 columns):\n",
      " #   Column         Non-Null Count  Dtype  \n",
      "---  ------         --------------  -----  \n",
      " 0   Rooms          391 non-null    int64  \n",
      " 1   Type           391 non-null    object \n",
      " 2   Price          391 non-null    float64\n",
      " 3   Distance       391 non-null    float64\n",
      " 4   Bathroom       391 non-null    float64\n",
      " 5   Car            391 non-null    float64\n",
      " 6   Landsize       391 non-null    float64\n",
      " 7   YearBuilt      391 non-null    float64\n",
      " 8   Regionname     391 non-null    object \n",
      " 9   Propertycount  391 non-null    int64  \n",
      "dtypes: float64(6), int64(2), object(2)\n",
      "memory usage: 33.6+ KB\n"
     ]
    }
   ],
   "source": [
    "# drop rows/columns with null values\n",
    "data = data.dropna()\n",
    "data = data.dropna(axis=1)\n",
    "data.info()\n",
    "data.reset_index(inplace = True)\n",
    "data = data.drop('index',axis = 1)"
   ]
  },
  {
   "cell_type": "code",
   "execution_count": 8,
   "id": "3528c363",
   "metadata": {},
   "outputs": [],
   "source": [
    "# one-hot encoding for category variables\n",
    "data = pd.get_dummies(data, columns=['Type','Regionname'])"
   ]
  },
  {
   "cell_type": "code",
   "execution_count": 9,
   "id": "716883b7",
   "metadata": {},
   "outputs": [],
   "source": [
    "# standardize our continuous features to unify their scales\n",
    "continuous_features = ['Rooms', 'Distance', 'Bathroom', 'Car',\n",
    "       'Landsize', 'YearBuilt', 'Propertycount']\n",
    "\n",
    "scaler = StandardScaler()\n",
    "data[continuous_features] = scaler.fit_transform(data[continuous_features])"
   ]
  },
  {
   "cell_type": "code",
   "execution_count": 10,
   "id": "753d0180",
   "metadata": {},
   "outputs": [
    {
     "name": "stdout",
     "output_type": "stream",
     "text": [
      "                            OLS Regression Results                            \n",
      "==============================================================================\n",
      "Dep. Variable:                  Price   R-squared:                       0.622\n",
      "Model:                            OLS   Adj. R-squared:                  0.598\n",
      "Method:                 Least Squares   F-statistic:                     26.32\n",
      "Date:                Tue, 30 Jan 2024   Prob (F-statistic):           4.43e-45\n",
      "Time:                        16:36:33   Log-Likelihood:                -3902.9\n",
      "No. Observations:                 273   AIC:                             7840.\n",
      "Df Residuals:                     256   BIC:                             7901.\n",
      "Df Model:                          16                                         \n",
      "Covariance Type:            nonrobust                                         \n",
      "=========================================================================================================\n",
      "                                            coef    std err          t      P>|t|      [0.025      0.975]\n",
      "---------------------------------------------------------------------------------------------------------\n",
      "const                                   7.52e+05   7.14e+04     10.531      0.000    6.11e+05    8.93e+05\n",
      "Rooms                                  1.634e+05   3.56e+04      4.593      0.000    9.34e+04    2.34e+05\n",
      "Distance                              -2.704e+05   3.56e+04     -7.584      0.000   -3.41e+05      -2e+05\n",
      "Bathroom                               1.416e+05   2.98e+04      4.759      0.000     8.3e+04       2e+05\n",
      "Car                                    8.349e+04   2.62e+04      3.188      0.002    3.19e+04    1.35e+05\n",
      "Landsize                               3.798e+04   2.25e+04      1.689      0.092   -6292.882    8.22e+04\n",
      "YearBuilt                             -1.203e+05   2.76e+04     -4.356      0.000   -1.75e+05   -6.59e+04\n",
      "Propertycount                          2.693e+04   2.61e+04      1.032      0.303   -2.45e+04    7.83e+04\n",
      "Type_h                                 4.493e+05   4.85e+04      9.259      0.000    3.54e+05    5.45e+05\n",
      "Type_t                                 2.825e+05   6.62e+04      4.269      0.000    1.52e+05    4.13e+05\n",
      "Type_u                                 2.013e+04   5.85e+04      0.344      0.731   -9.51e+04    1.35e+05\n",
      "Regionname_Eastern Metropolitan        5270.7185   1.05e+05      0.050      0.960   -2.01e+05    2.11e+05\n",
      "Regionname_Eastern Victoria            3.969e+05   2.81e+05      1.414      0.158   -1.56e+05     9.5e+05\n",
      "Regionname_Northern Metropolitan      -2.574e+05   1.06e+05     -2.427      0.016   -4.66e+05   -4.86e+04\n",
      "Regionname_Northern Victoria           4.142e+05   3.83e+05      1.082      0.280   -3.39e+05    1.17e+06\n",
      "Regionname_South-Eastern Metropolitan  2.337e+05   1.43e+05      1.637      0.103   -4.74e+04    5.15e+05\n",
      "Regionname_Southern Metropolitan       2.727e+05   1.06e+05      2.576      0.011    6.42e+04    4.81e+05\n",
      "Regionname_Western Metropolitan       -2.732e+05   1.05e+05     -2.594      0.010   -4.81e+05   -6.58e+04\n",
      "Regionname_Western Victoria           -4.037e+04   3.69e+05     -0.109      0.913   -7.67e+05    6.87e+05\n",
      "==============================================================================\n",
      "Omnibus:                      201.713   Durbin-Watson:                   2.009\n",
      "Prob(Omnibus):                  0.000   Jarque-Bera (JB):             3799.233\n",
      "Skew:                           2.717   Prob(JB):                         0.00\n",
      "Kurtosis:                      20.449   Cond. No.                     1.71e+16\n",
      "==============================================================================\n",
      "\n",
      "Notes:\n",
      "[1] Standard Errors assume that the covariance matrix of the errors is correctly specified.\n",
      "[2] The smallest eigenvalue is 2.03e-30. This might indicate that there are\n",
      "strong multicollinearity problems or that the design matrix is singular.\n"
     ]
    }
   ],
   "source": [
    "# set target variables and features for linear regression model\n",
    "price = data['Price']\n",
    "feature = data.loc[:,data.columns]\n",
    "feature = feature.drop('Price',axis = 1)\n",
    "\n",
    "# split data into training and test set\n",
    "x_train, x_test, y_train, y_test = train_test_split(feature, price, test_size=0.3, random_state=4)\n",
    "\n",
    "# develop the linear regression model\n",
    "model = sm.OLS(y_train,sm.add_constant(x_train)).fit()\n",
    "print(model.summary())"
   ]
  },
  {
   "cell_type": "markdown",
   "id": "af21cc14",
   "metadata": {},
   "source": [
    "#### Steps:\n",
    "- First, I dropped some of the columns that do not really help with the price predictions.\n",
    "- Among the remaining columns, I filled the NA values either with 0 or the mean values of that specific column.\n",
    "- Then I drop rows and columns that still contain NA values.\n",
    "- After having my data ready, I started one-hot encoding for category variables for future linear regression model.\n",
    "- The next step: I used StandardScaler() to standardize my continuous features to enable my model to be more accurate.\n",
    "- Then I set target variables and features for linear regression model, and created training and test set for my data.\n",
    "- The last step is to build the linear regression model using my training x and training data and extract the model summay."
   ]
  },
  {
   "cell_type": "markdown",
   "id": "c2deb903",
   "metadata": {},
   "source": [
    "### Model Evaluation\n"
   ]
  },
  {
   "cell_type": "code",
   "execution_count": 11,
   "id": "31b99970",
   "metadata": {},
   "outputs": [],
   "source": [
    "# find the predicted price values based on the model built from training data\n",
    "x_test_constant = sm.add_constant(x_test)\n",
    "y_pred = model.predict(x_test_constant)"
   ]
  },
  {
   "cell_type": "code",
   "execution_count": 12,
   "id": "6ea1f0a8",
   "metadata": {},
   "outputs": [],
   "source": [
    "# Evaluate model performance using the deviance and R^2 functioon created by professor\n",
    "def deviance(y, pred, family=\"gaussian\"):\n",
    "    if family == \"gaussian\":\n",
    "        return np.sum((y - pred) ** 2)\n",
    "    elif family == \"binomial\":\n",
    "        y = np.array(y)\n",
    "        pred = np.array(pred)\n",
    "        return -2 * np.sum(y * np.log(pred) + (1 - y) * np.log(1 - pred))\n",
    "\n",
    "def R2(y, pred, family=\"gaussian\"):\n",
    "    dev_val = deviance(y, pred, family=family)\n",
    "    dev0 = deviance(y, [np.mean(y)] * len(y), family=family)\n",
    "    return 1 - dev_val / dev0"
   ]
  },
  {
   "cell_type": "code",
   "execution_count": 13,
   "id": "ff83de4b",
   "metadata": {},
   "outputs": [
    {
     "data": {
      "text/plain": [
       "0.5347567940020275"
      ]
     },
     "execution_count": 13,
     "metadata": {},
     "output_type": "execute_result"
    }
   ],
   "source": [
    "R_square = R2(y_test,y_pred)\n",
    "R_square"
   ]
  },
  {
   "cell_type": "code",
   "execution_count": 14,
   "id": "eefc0625",
   "metadata": {},
   "outputs": [
    {
     "name": "stdout",
     "output_type": "stream",
     "text": [
      "R-squares:\n",
      " [0.44125198 0.22925798 0.44467192 0.58590602 0.67000963 0.59982905\n",
      " 0.61692387 0.50339666 0.68504686 0.53107074] \n",
      "\n",
      "Average R-squares\n",
      ": 0.5307364714117421\n"
     ]
    }
   ],
   "source": [
    "# OOS: Now we will use 10-fold cross validation to collect 10 R_square score, and find the mean R_square score for my model through OOS\n",
    "model = LinearRegression()\n",
    "\n",
    "fold_10 = KFold(n_splits=10, shuffle = True, random_state= 1)\n",
    "r_squares = cross_val_score(model, feature, price, cv = fold_10, scoring = make_scorer(R2))\n",
    "\n",
    "# Collect the R_squared scores and find the mean R_squared score\n",
    "print(\"R-squares:\\n\", r_squares, \"\\n\")\n",
    "print(\"Average R-squares\\n:\", np.mean(r_squares))"
   ]
  },
  {
   "cell_type": "code",
   "execution_count": 15,
   "id": "90695d79",
   "metadata": {},
   "outputs": [
    {
     "name": "stdout",
     "output_type": "stream",
     "text": [
      "Mean Squared Error:\n",
      " [1.83375533e+11 1.31864098e+11 5.27563608e+11 9.32490149e+10\n",
      " 7.39953030e+10 1.34071324e+11 1.13556428e+11 1.84497602e+11\n",
      " 2.40640883e+11 1.12829767e+11] \n",
      "\n",
      "Average Mean Squared Error:\n",
      " 179564356172.5467\n"
     ]
    }
   ],
   "source": [
    "# Now we will evaluate the mean squared error\n",
    "mse = cross_val_score(model, feature, price, cv = fold_10, scoring = make_scorer(mean_squared_error))\n",
    "\n",
    "# Collect the R_squared scores and find the mean R_squared score\n",
    "print(\"Mean Squared Error:\\n\", mse, \"\\n\")\n",
    "print(\"Average Mean Squared Error:\\n\", np.mean(mse))"
   ]
  },
  {
   "cell_type": "markdown",
   "id": "7ebe2d50",
   "metadata": {},
   "source": [
    "By using 10 fold cross validation to find the mean R^2 score of my linear regression model, I got a score of 0.55, which means that the model i trained can explain approximatly 55% of the prediction deviance. And the Mean Squared error indicates that the square of our prediction error is approximately 179564356172.5467."
   ]
  },
  {
   "cell_type": "markdown",
   "id": "80325eae",
   "metadata": {},
   "source": [
    "### Regularization** (25 pts):\n",
    "- Is there a need for Lasso regularization? Explain. (Compare test and training results)\n",
    "\n",
    "- Set up a Lasso regression model with specified parameters and fit it to the training data.\n",
    "\n",
    "- Perform Lasso regression on both training and test data\n",
    "\n",
    "- Analyze and explain how the results change from previous answer."
   ]
  },
  {
   "cell_type": "code",
   "execution_count": 16,
   "id": "3e04e52f",
   "metadata": {},
   "outputs": [
    {
     "name": "stderr",
     "output_type": "stream",
     "text": [
      "/Users/eddyyu/opt/anaconda3/lib/python3.9/site-packages/sklearn/linear_model/_coordinate_descent.py:648: ConvergenceWarning: Objective did not converge. You might want to increase the number of iterations, check the scale of the features or consider increasing regularisation. Duality gap: 4.571e+12, tolerance: 1.106e+10\n",
      "  model = cd_fast.enet_coordinate_descent(\n"
     ]
    },
    {
     "data": {
      "text/html": [
       "<style>#sk-container-id-1 {color: black;background-color: white;}#sk-container-id-1 pre{padding: 0;}#sk-container-id-1 div.sk-toggleable {background-color: white;}#sk-container-id-1 label.sk-toggleable__label {cursor: pointer;display: block;width: 100%;margin-bottom: 0;padding: 0.3em;box-sizing: border-box;text-align: center;}#sk-container-id-1 label.sk-toggleable__label-arrow:before {content: \"▸\";float: left;margin-right: 0.25em;color: #696969;}#sk-container-id-1 label.sk-toggleable__label-arrow:hover:before {color: black;}#sk-container-id-1 div.sk-estimator:hover label.sk-toggleable__label-arrow:before {color: black;}#sk-container-id-1 div.sk-toggleable__content {max-height: 0;max-width: 0;overflow: hidden;text-align: left;background-color: #f0f8ff;}#sk-container-id-1 div.sk-toggleable__content pre {margin: 0.2em;color: black;border-radius: 0.25em;background-color: #f0f8ff;}#sk-container-id-1 input.sk-toggleable__control:checked~div.sk-toggleable__content {max-height: 200px;max-width: 100%;overflow: auto;}#sk-container-id-1 input.sk-toggleable__control:checked~label.sk-toggleable__label-arrow:before {content: \"▾\";}#sk-container-id-1 div.sk-estimator input.sk-toggleable__control:checked~label.sk-toggleable__label {background-color: #d4ebff;}#sk-container-id-1 div.sk-label input.sk-toggleable__control:checked~label.sk-toggleable__label {background-color: #d4ebff;}#sk-container-id-1 input.sk-hidden--visually {border: 0;clip: rect(1px 1px 1px 1px);clip: rect(1px, 1px, 1px, 1px);height: 1px;margin: -1px;overflow: hidden;padding: 0;position: absolute;width: 1px;}#sk-container-id-1 div.sk-estimator {font-family: monospace;background-color: #f0f8ff;border: 1px dotted black;border-radius: 0.25em;box-sizing: border-box;margin-bottom: 0.5em;}#sk-container-id-1 div.sk-estimator:hover {background-color: #d4ebff;}#sk-container-id-1 div.sk-parallel-item::after {content: \"\";width: 100%;border-bottom: 1px solid gray;flex-grow: 1;}#sk-container-id-1 div.sk-label:hover label.sk-toggleable__label {background-color: #d4ebff;}#sk-container-id-1 div.sk-serial::before {content: \"\";position: absolute;border-left: 1px solid gray;box-sizing: border-box;top: 0;bottom: 0;left: 50%;z-index: 0;}#sk-container-id-1 div.sk-serial {display: flex;flex-direction: column;align-items: center;background-color: white;padding-right: 0.2em;padding-left: 0.2em;position: relative;}#sk-container-id-1 div.sk-item {position: relative;z-index: 1;}#sk-container-id-1 div.sk-parallel {display: flex;align-items: stretch;justify-content: center;background-color: white;position: relative;}#sk-container-id-1 div.sk-item::before, #sk-container-id-1 div.sk-parallel-item::before {content: \"\";position: absolute;border-left: 1px solid gray;box-sizing: border-box;top: 0;bottom: 0;left: 50%;z-index: -1;}#sk-container-id-1 div.sk-parallel-item {display: flex;flex-direction: column;z-index: 1;position: relative;background-color: white;}#sk-container-id-1 div.sk-parallel-item:first-child::after {align-self: flex-end;width: 50%;}#sk-container-id-1 div.sk-parallel-item:last-child::after {align-self: flex-start;width: 50%;}#sk-container-id-1 div.sk-parallel-item:only-child::after {width: 0;}#sk-container-id-1 div.sk-dashed-wrapped {border: 1px dashed gray;margin: 0 0.4em 0.5em 0.4em;box-sizing: border-box;padding-bottom: 0.4em;background-color: white;}#sk-container-id-1 div.sk-label label {font-family: monospace;font-weight: bold;display: inline-block;line-height: 1.2em;}#sk-container-id-1 div.sk-label-container {text-align: center;}#sk-container-id-1 div.sk-container {/* jupyter's `normalize.less` sets `[hidden] { display: none; }` but bootstrap.min.css set `[hidden] { display: none !important; }` so we also need the `!important` here to be able to override the default hidden behavior on the sphinx rendered scikit-learn.org. See: https://github.com/scikit-learn/scikit-learn/issues/21755 */display: inline-block !important;position: relative;}#sk-container-id-1 div.sk-text-repr-fallback {display: none;}</style><div id=\"sk-container-id-1\" class=\"sk-top-container\"><div class=\"sk-text-repr-fallback\"><pre>Lasso(alpha=2.0)</pre><b>In a Jupyter environment, please rerun this cell to show the HTML representation or trust the notebook. <br />On GitHub, the HTML representation is unable to render, please try loading this page with nbviewer.org.</b></div><div class=\"sk-container\" hidden><div class=\"sk-item\"><div class=\"sk-estimator sk-toggleable\"><input class=\"sk-toggleable__control sk-hidden--visually\" id=\"sk-estimator-id-1\" type=\"checkbox\" checked><label for=\"sk-estimator-id-1\" class=\"sk-toggleable__label sk-toggleable__label-arrow\">Lasso</label><div class=\"sk-toggleable__content\"><pre>Lasso(alpha=2.0)</pre></div></div></div></div></div>"
      ],
      "text/plain": [
       "Lasso(alpha=2.0)"
      ]
     },
     "execution_count": 16,
     "metadata": {},
     "output_type": "execute_result"
    }
   ],
   "source": [
    "from sklearn.linear_model import Lasso\n",
    "\n",
    "# we first try to build a lasso model with alpha being set to 2\n",
    "lasso_model = Lasso(alpha=2.0)\n",
    "lasso_model.fit(x_train, y_train)"
   ]
  },
  {
   "cell_type": "code",
   "execution_count": 17,
   "id": "c453fd97",
   "metadata": {},
   "outputs": [
    {
     "name": "stdout",
     "output_type": "stream",
     "text": [
      "First predicted result from lasso model:\n",
      "\n",
      "[1425540.95075895 1005019.61445224  992237.65551436 1622379.53315155\n",
      "  921600.11088716 1424464.2746963   866613.08224081  747301.82531493\n",
      "  910653.34362872 1220603.55496609  760034.90502415  271572.54017417\n",
      " 1050108.2258804  1739868.87703999 -103045.19712047  840128.27131303\n",
      "    5905.50198925  501755.13298072  758784.70459464 1023890.26237956\n",
      " 1527568.38587719 1019128.07659852 1191591.71625038 1232937.05373457\n",
      "  170135.83371659 1367491.27564809 2468030.48045165 1266084.6541577\n",
      " 1157382.29682054 1102042.67503105 2316088.66848866  227061.73437831\n",
      " 1829697.88246575 1290418.5221836   447369.62303696 1718242.25540377\n",
      "  794134.72977224 1130609.35356543  758282.37203854  285579.06885504\n",
      "  492691.14030551  773719.14605732  421333.4650997  1289896.11079527\n",
      "  721764.18562557  977735.7025762   647501.56131562 1002324.90237367\n",
      "  880059.56185509  527686.34433813] \n",
      "\n",
      "\n",
      "\n",
      "Lasso coefficients:\n",
      "\n",
      " [ 163447.36704974 -270339.84695831  141636.82569103   83479.09672543\n",
      "   37976.44331605 -120319.04207033   26927.06208484  345650.02016144\n",
      "  178805.60415257  -83534.16746044   32568.27824388  423851.65140097\n",
      " -230055.25597998  440827.60382627  260949.53978816  300038.02145973\n",
      " -245830.83709577  -12608.78685094] \n",
      "\n",
      "\n",
      "\n",
      "Intercept:\n",
      "\n",
      " 828349.9018265803\n"
     ]
    }
   ],
   "source": [
    "# find the predicted y values from the lasso model\n",
    "y_pred_lasso = lasso_model.predict(x_test)\n",
    "print('First predicted result from lasso model:\\n')\n",
    "print(y_pred_lasso[:50],'\\n\\n\\n')      # first 50 results\n",
    "\n",
    "# find the coefficients and intercepts for the lasso model\n",
    "print(\"Lasso coefficients:\\n\\n\", lasso_model.coef_, '\\n\\n\\n')\n",
    "print(\"Intercept:\\n\\n\", lasso_model.intercept_)"
   ]
  },
  {
   "cell_type": "code",
   "execution_count": 18,
   "id": "5a54a1a3",
   "metadata": {},
   "outputs": [
    {
     "name": "stdout",
     "output_type": "stream",
     "text": [
      "R-squares:\n",
      " [0.7259361  0.49559302 0.22667815 0.53759465 0.66090186 0.47154913\n",
      " 0.61584223 0.51914523 0.45583425 0.65702113] \n",
      "\n",
      "Average R-squares:\n",
      " 0.5366095753498312 \n",
      "\n",
      "\n",
      "\n",
      "Mean Squared Error:\n",
      " [8.83351833e+10 1.55206827e+11 1.52451571e+11 1.49630221e+11\n",
      " 9.57392064e+10 1.23147722e+11 1.65120368e+11 4.87656436e+11\n",
      " 2.20433860e+11 1.54305769e+11] \n",
      "\n",
      "Average Mean Squared Error:\n",
      " 179202716536.7052\n"
     ]
    },
    {
     "name": "stderr",
     "output_type": "stream",
     "text": [
      "/Users/eddyyu/opt/anaconda3/lib/python3.9/site-packages/sklearn/linear_model/_coordinate_descent.py:648: ConvergenceWarning: Objective did not converge. You might want to increase the number of iterations, check the scale of the features or consider increasing regularisation. Duality gap: 6.586e+12, tolerance: 1.441e+10\n",
      "  model = cd_fast.enet_coordinate_descent(\n",
      "/Users/eddyyu/opt/anaconda3/lib/python3.9/site-packages/sklearn/linear_model/_coordinate_descent.py:648: ConvergenceWarning: Objective did not converge. You might want to increase the number of iterations, check the scale of the features or consider increasing regularisation. Duality gap: 6.481e+12, tolerance: 1.450e+10\n",
      "  model = cd_fast.enet_coordinate_descent(\n",
      "/Users/eddyyu/opt/anaconda3/lib/python3.9/site-packages/sklearn/linear_model/_coordinate_descent.py:648: ConvergenceWarning: Objective did not converge. You might want to increase the number of iterations, check the scale of the features or consider increasing regularisation. Duality gap: 1.181e+13, tolerance: 1.489e+10\n",
      "  model = cd_fast.enet_coordinate_descent(\n",
      "/Users/eddyyu/opt/anaconda3/lib/python3.9/site-packages/sklearn/linear_model/_coordinate_descent.py:648: ConvergenceWarning: Objective did not converge. You might want to increase the number of iterations, check the scale of the features or consider increasing regularisation. Duality gap: 2.761e+12, tolerance: 1.442e+10\n",
      "  model = cd_fast.enet_coordinate_descent(\n",
      "/Users/eddyyu/opt/anaconda3/lib/python3.9/site-packages/sklearn/linear_model/_coordinate_descent.py:648: ConvergenceWarning: Objective did not converge. You might want to increase the number of iterations, check the scale of the features or consider increasing regularisation. Duality gap: 8.821e+12, tolerance: 1.456e+10\n",
      "  model = cd_fast.enet_coordinate_descent(\n",
      "/Users/eddyyu/opt/anaconda3/lib/python3.9/site-packages/sklearn/linear_model/_coordinate_descent.py:648: ConvergenceWarning: Objective did not converge. You might want to increase the number of iterations, check the scale of the features or consider increasing regularisation. Duality gap: 6.759e+12, tolerance: 1.478e+10\n",
      "  model = cd_fast.enet_coordinate_descent(\n",
      "/Users/eddyyu/opt/anaconda3/lib/python3.9/site-packages/sklearn/linear_model/_coordinate_descent.py:648: ConvergenceWarning: Objective did not converge. You might want to increase the number of iterations, check the scale of the features or consider increasing regularisation. Duality gap: 6.341e+12, tolerance: 1.403e+10\n",
      "  model = cd_fast.enet_coordinate_descent(\n",
      "/Users/eddyyu/opt/anaconda3/lib/python3.9/site-packages/sklearn/linear_model/_coordinate_descent.py:648: ConvergenceWarning: Objective did not converge. You might want to increase the number of iterations, check the scale of the features or consider increasing regularisation. Duality gap: 5.010e+12, tolerance: 1.164e+10\n",
      "  model = cd_fast.enet_coordinate_descent(\n",
      "/Users/eddyyu/opt/anaconda3/lib/python3.9/site-packages/sklearn/linear_model/_coordinate_descent.py:648: ConvergenceWarning: Objective did not converge. You might want to increase the number of iterations, check the scale of the features or consider increasing regularisation. Duality gap: 6.084e+12, tolerance: 1.412e+10\n",
      "  model = cd_fast.enet_coordinate_descent(\n",
      "/Users/eddyyu/opt/anaconda3/lib/python3.9/site-packages/sklearn/linear_model/_coordinate_descent.py:648: ConvergenceWarning: Objective did not converge. You might want to increase the number of iterations, check the scale of the features or consider increasing regularisation. Duality gap: 6.588e+12, tolerance: 1.394e+10\n",
      "  model = cd_fast.enet_coordinate_descent(\n",
      "/Users/eddyyu/opt/anaconda3/lib/python3.9/site-packages/sklearn/linear_model/_coordinate_descent.py:648: ConvergenceWarning: Objective did not converge. You might want to increase the number of iterations, check the scale of the features or consider increasing regularisation. Duality gap: 6.586e+12, tolerance: 1.441e+10\n",
      "  model = cd_fast.enet_coordinate_descent(\n",
      "/Users/eddyyu/opt/anaconda3/lib/python3.9/site-packages/sklearn/linear_model/_coordinate_descent.py:648: ConvergenceWarning: Objective did not converge. You might want to increase the number of iterations, check the scale of the features or consider increasing regularisation. Duality gap: 6.481e+12, tolerance: 1.450e+10\n",
      "  model = cd_fast.enet_coordinate_descent(\n",
      "/Users/eddyyu/opt/anaconda3/lib/python3.9/site-packages/sklearn/linear_model/_coordinate_descent.py:648: ConvergenceWarning: Objective did not converge. You might want to increase the number of iterations, check the scale of the features or consider increasing regularisation. Duality gap: 1.181e+13, tolerance: 1.489e+10\n",
      "  model = cd_fast.enet_coordinate_descent(\n",
      "/Users/eddyyu/opt/anaconda3/lib/python3.9/site-packages/sklearn/linear_model/_coordinate_descent.py:648: ConvergenceWarning: Objective did not converge. You might want to increase the number of iterations, check the scale of the features or consider increasing regularisation. Duality gap: 2.761e+12, tolerance: 1.442e+10\n",
      "  model = cd_fast.enet_coordinate_descent(\n",
      "/Users/eddyyu/opt/anaconda3/lib/python3.9/site-packages/sklearn/linear_model/_coordinate_descent.py:648: ConvergenceWarning: Objective did not converge. You might want to increase the number of iterations, check the scale of the features or consider increasing regularisation. Duality gap: 8.821e+12, tolerance: 1.456e+10\n",
      "  model = cd_fast.enet_coordinate_descent(\n",
      "/Users/eddyyu/opt/anaconda3/lib/python3.9/site-packages/sklearn/linear_model/_coordinate_descent.py:648: ConvergenceWarning: Objective did not converge. You might want to increase the number of iterations, check the scale of the features or consider increasing regularisation. Duality gap: 6.759e+12, tolerance: 1.478e+10\n",
      "  model = cd_fast.enet_coordinate_descent(\n",
      "/Users/eddyyu/opt/anaconda3/lib/python3.9/site-packages/sklearn/linear_model/_coordinate_descent.py:648: ConvergenceWarning: Objective did not converge. You might want to increase the number of iterations, check the scale of the features or consider increasing regularisation. Duality gap: 6.341e+12, tolerance: 1.403e+10\n",
      "  model = cd_fast.enet_coordinate_descent(\n",
      "/Users/eddyyu/opt/anaconda3/lib/python3.9/site-packages/sklearn/linear_model/_coordinate_descent.py:648: ConvergenceWarning: Objective did not converge. You might want to increase the number of iterations, check the scale of the features or consider increasing regularisation. Duality gap: 5.010e+12, tolerance: 1.164e+10\n",
      "  model = cd_fast.enet_coordinate_descent(\n",
      "/Users/eddyyu/opt/anaconda3/lib/python3.9/site-packages/sklearn/linear_model/_coordinate_descent.py:648: ConvergenceWarning: Objective did not converge. You might want to increase the number of iterations, check the scale of the features or consider increasing regularisation. Duality gap: 6.084e+12, tolerance: 1.412e+10\n",
      "  model = cd_fast.enet_coordinate_descent(\n",
      "/Users/eddyyu/opt/anaconda3/lib/python3.9/site-packages/sklearn/linear_model/_coordinate_descent.py:648: ConvergenceWarning: Objective did not converge. You might want to increase the number of iterations, check the scale of the features or consider increasing regularisation. Duality gap: 6.588e+12, tolerance: 1.394e+10\n",
      "  model = cd_fast.enet_coordinate_descent(\n"
     ]
    }
   ],
   "source": [
    "# find within sample R^2\n",
    "R_square_lasso = R2(y_test,y_pred_lasso)\n",
    "R_square_lasso\n",
    "\n",
    "# OOS: Now we will use 10-fold cross validation to collect 10 R_square score, and find the mean R_square score for my model through OOS\n",
    "fold_10 = KFold(n_splits=10, shuffle = True, random_state= 19)\n",
    "r_squares = cross_val_score(lasso_model, feature, price, cv = fold_10, scoring = make_scorer(R2))\n",
    "\n",
    "# Collect the R_squared scores and find the mean R_squared score\n",
    "print(\"R-squares:\\n\", r_squares, \"\\n\")\n",
    "print(\"Average R-squares:\\n\", np.mean(r_squares),'\\n\\n\\n')\n",
    "\n",
    "\n",
    "# Now we will evaluate the mean squared error\n",
    "mse = cross_val_score(lasso_model, feature, price, cv = fold_10, scoring = make_scorer(mean_squared_error))\n",
    "\n",
    "# Collect the R_squared scores and find the mean R_squared score\n",
    "print(\"Mean Squared Error:\\n\", mse, \"\\n\")\n",
    "print(\"Average Mean Squared Error:\\n\", np.mean(mse))"
   ]
  },
  {
   "cell_type": "markdown",
   "id": "9dc897ab",
   "metadata": {},
   "source": [
    "By comparing average R^2 results and average Mean Squared Error from both linear regression and ridge models, the ridge model with alpha being set to 2 does not necessay make the performance of the mode any better."
   ]
  },
  {
   "cell_type": "markdown",
   "id": "fa9404b9",
   "metadata": {},
   "source": [
    "### 5. Out-of-sample performance (25 pts):\n",
    "- Ignore all previously trained models.\n",
    "\n",
    "- Split the data into a new training and test 80-20.\n",
    "\n",
    "- Newly train (fit) the linear regression model on the training data.\n",
    "\n",
    "- Newly train (fit) the lasso regression model on the training data.\n",
    "\n",
    "- Estimate AIC, AICc, BIC, as well as 5-fold CV for both models using only the training data.\n",
    "\n",
    "- Estimate the models true OOS performance by computing their deviance on the test data.\n",
    "\n",
    "- Compare all (deviance) values.  Which IC is most similar to the models’ true OOS performance?  How does 5-fold CV compare?  Explain."
   ]
  },
  {
   "cell_type": "code",
   "execution_count": 19,
   "id": "1e9bac59",
   "metadata": {},
   "outputs": [],
   "source": [
    "# Split the data into a new training and test 80-20\n",
    "x_train, x_test, y_train, y_test = train_test_split(feature, price, test_size=0.2, random_state=22)"
   ]
  },
  {
   "cell_type": "code",
   "execution_count": 20,
   "id": "e6203b10",
   "metadata": {},
   "outputs": [
    {
     "name": "stderr",
     "output_type": "stream",
     "text": [
      "/Users/eddyyu/opt/anaconda3/lib/python3.9/site-packages/sklearn/linear_model/_coordinate_descent.py:648: ConvergenceWarning: Objective did not converge. You might want to increase the number of iterations, check the scale of the features or consider increasing regularisation. Duality gap: 8.173e+12, tolerance: 1.285e+10\n",
      "  model = cd_fast.enet_coordinate_descent(\n"
     ]
    },
    {
     "data": {
      "text/html": [
       "<style>#sk-container-id-2 {color: black;background-color: white;}#sk-container-id-2 pre{padding: 0;}#sk-container-id-2 div.sk-toggleable {background-color: white;}#sk-container-id-2 label.sk-toggleable__label {cursor: pointer;display: block;width: 100%;margin-bottom: 0;padding: 0.3em;box-sizing: border-box;text-align: center;}#sk-container-id-2 label.sk-toggleable__label-arrow:before {content: \"▸\";float: left;margin-right: 0.25em;color: #696969;}#sk-container-id-2 label.sk-toggleable__label-arrow:hover:before {color: black;}#sk-container-id-2 div.sk-estimator:hover label.sk-toggleable__label-arrow:before {color: black;}#sk-container-id-2 div.sk-toggleable__content {max-height: 0;max-width: 0;overflow: hidden;text-align: left;background-color: #f0f8ff;}#sk-container-id-2 div.sk-toggleable__content pre {margin: 0.2em;color: black;border-radius: 0.25em;background-color: #f0f8ff;}#sk-container-id-2 input.sk-toggleable__control:checked~div.sk-toggleable__content {max-height: 200px;max-width: 100%;overflow: auto;}#sk-container-id-2 input.sk-toggleable__control:checked~label.sk-toggleable__label-arrow:before {content: \"▾\";}#sk-container-id-2 div.sk-estimator input.sk-toggleable__control:checked~label.sk-toggleable__label {background-color: #d4ebff;}#sk-container-id-2 div.sk-label input.sk-toggleable__control:checked~label.sk-toggleable__label {background-color: #d4ebff;}#sk-container-id-2 input.sk-hidden--visually {border: 0;clip: rect(1px 1px 1px 1px);clip: rect(1px, 1px, 1px, 1px);height: 1px;margin: -1px;overflow: hidden;padding: 0;position: absolute;width: 1px;}#sk-container-id-2 div.sk-estimator {font-family: monospace;background-color: #f0f8ff;border: 1px dotted black;border-radius: 0.25em;box-sizing: border-box;margin-bottom: 0.5em;}#sk-container-id-2 div.sk-estimator:hover {background-color: #d4ebff;}#sk-container-id-2 div.sk-parallel-item::after {content: \"\";width: 100%;border-bottom: 1px solid gray;flex-grow: 1;}#sk-container-id-2 div.sk-label:hover label.sk-toggleable__label {background-color: #d4ebff;}#sk-container-id-2 div.sk-serial::before {content: \"\";position: absolute;border-left: 1px solid gray;box-sizing: border-box;top: 0;bottom: 0;left: 50%;z-index: 0;}#sk-container-id-2 div.sk-serial {display: flex;flex-direction: column;align-items: center;background-color: white;padding-right: 0.2em;padding-left: 0.2em;position: relative;}#sk-container-id-2 div.sk-item {position: relative;z-index: 1;}#sk-container-id-2 div.sk-parallel {display: flex;align-items: stretch;justify-content: center;background-color: white;position: relative;}#sk-container-id-2 div.sk-item::before, #sk-container-id-2 div.sk-parallel-item::before {content: \"\";position: absolute;border-left: 1px solid gray;box-sizing: border-box;top: 0;bottom: 0;left: 50%;z-index: -1;}#sk-container-id-2 div.sk-parallel-item {display: flex;flex-direction: column;z-index: 1;position: relative;background-color: white;}#sk-container-id-2 div.sk-parallel-item:first-child::after {align-self: flex-end;width: 50%;}#sk-container-id-2 div.sk-parallel-item:last-child::after {align-self: flex-start;width: 50%;}#sk-container-id-2 div.sk-parallel-item:only-child::after {width: 0;}#sk-container-id-2 div.sk-dashed-wrapped {border: 1px dashed gray;margin: 0 0.4em 0.5em 0.4em;box-sizing: border-box;padding-bottom: 0.4em;background-color: white;}#sk-container-id-2 div.sk-label label {font-family: monospace;font-weight: bold;display: inline-block;line-height: 1.2em;}#sk-container-id-2 div.sk-label-container {text-align: center;}#sk-container-id-2 div.sk-container {/* jupyter's `normalize.less` sets `[hidden] { display: none; }` but bootstrap.min.css set `[hidden] { display: none !important; }` so we also need the `!important` here to be able to override the default hidden behavior on the sphinx rendered scikit-learn.org. See: https://github.com/scikit-learn/scikit-learn/issues/21755 */display: inline-block !important;position: relative;}#sk-container-id-2 div.sk-text-repr-fallback {display: none;}</style><div id=\"sk-container-id-2\" class=\"sk-top-container\"><div class=\"sk-text-repr-fallback\"><pre>Lasso(alpha=2.0)</pre><b>In a Jupyter environment, please rerun this cell to show the HTML representation or trust the notebook. <br />On GitHub, the HTML representation is unable to render, please try loading this page with nbviewer.org.</b></div><div class=\"sk-container\" hidden><div class=\"sk-item\"><div class=\"sk-estimator sk-toggleable\"><input class=\"sk-toggleable__control sk-hidden--visually\" id=\"sk-estimator-id-2\" type=\"checkbox\" checked><label for=\"sk-estimator-id-2\" class=\"sk-toggleable__label sk-toggleable__label-arrow\">Lasso</label><div class=\"sk-toggleable__content\"><pre>Lasso(alpha=2.0)</pre></div></div></div></div></div>"
      ],
      "text/plain": [
       "Lasso(alpha=2.0)"
      ]
     },
     "execution_count": 20,
     "metadata": {},
     "output_type": "execute_result"
    }
   ],
   "source": [
    "# Linear Regression Model\n",
    "model = sm.OLS(y_train,sm.add_constant(x_train)).fit()\n",
    "\n",
    "# Lasso Regression Model\n",
    "model_lasso = Lasso(alpha=2.0)\n",
    "model_lasso.fit(x_train, y_train)"
   ]
  },
  {
   "cell_type": "code",
   "execution_count": 21,
   "id": "c283ad02",
   "metadata": {},
   "outputs": [
    {
     "name": "stdout",
     "output_type": "stream",
     "text": [
      "AIC is 8969.189864871452\n",
      "AICc is 8971.033932668062\n",
      "BIC is 9029.077915876403\n",
      "Mean Squared Error for Linear Regression model using training data is 177216789326.17624.\n"
     ]
    }
   ],
   "source": [
    "# Estimate AIC, AICc, BIC, as well as 5-fold CV for linear regression model using only the training data.\n",
    "\n",
    "# aic\n",
    "aic = model.aic\n",
    "\n",
    "# aicc\n",
    "n_obs = len(y_train)\n",
    "n_parameter = model.df_model + 1\n",
    "aicc = aic + (2 * n_parameter * (n_parameter+1))/(n_obs - n_parameter - 1)\n",
    "\n",
    "#bic\n",
    "bic = model.bic\n",
    "\n",
    "print(f'AIC is {aic}') \n",
    "print(f'AICc is {aicc}') \n",
    "print(f'BIC is {bic}') \n",
    "\n",
    "# 5-fold cv\n",
    "fold_5 = KFold(n_splits=5, shuffle = True, random_state= 12)\n",
    "model_MSRE = cross_val_score(LinearRegression(), x_train, y_train, cv = fold_5, scoring = make_scorer(mean_squared_error))\n",
    "model_MSRE = np.mean(model_MSRE)\n",
    "print(f'Mean Squared Error for Linear Regression model using training data is {model_MSRE}.')"
   ]
  },
  {
   "cell_type": "code",
   "execution_count": 24,
   "id": "27e5101f",
   "metadata": {},
   "outputs": [
    {
     "name": "stdout",
     "output_type": "stream",
     "text": [
      "AIC for Lasso model is 8089.772225563693\n",
      "AICc for Lasso model is 8092.37496528972\n",
      "BIC for Lasso model is 8160.889286132073\n",
      "Mean Squared Error for Lasso Regression model using training data is 177212498458.1553.\n"
     ]
    },
    {
     "name": "stderr",
     "output_type": "stream",
     "text": [
      "/Users/eddyyu/opt/anaconda3/lib/python3.9/site-packages/sklearn/linear_model/_coordinate_descent.py:648: ConvergenceWarning: Objective did not converge. You might want to increase the number of iterations, check the scale of the features or consider increasing regularisation. Duality gap: 7.306e+12, tolerance: 1.006e+10\n",
      "  model = cd_fast.enet_coordinate_descent(\n",
      "/Users/eddyyu/opt/anaconda3/lib/python3.9/site-packages/sklearn/linear_model/_coordinate_descent.py:648: ConvergenceWarning: Objective did not converge. You might want to increase the number of iterations, check the scale of the features or consider increasing regularisation. Duality gap: 5.627e+12, tolerance: 9.447e+09\n",
      "  model = cd_fast.enet_coordinate_descent(\n",
      "/Users/eddyyu/opt/anaconda3/lib/python3.9/site-packages/sklearn/linear_model/_coordinate_descent.py:648: ConvergenceWarning: Objective did not converge. You might want to increase the number of iterations, check the scale of the features or consider increasing regularisation. Duality gap: 1.643e+12, tolerance: 1.054e+10\n",
      "  model = cd_fast.enet_coordinate_descent(\n",
      "/Users/eddyyu/opt/anaconda3/lib/python3.9/site-packages/sklearn/linear_model/_coordinate_descent.py:648: ConvergenceWarning: Objective did not converge. You might want to increase the number of iterations, check the scale of the features or consider increasing regularisation. Duality gap: 7.070e+12, tolerance: 1.084e+10\n",
      "  model = cd_fast.enet_coordinate_descent(\n",
      "/Users/eddyyu/opt/anaconda3/lib/python3.9/site-packages/sklearn/linear_model/_coordinate_descent.py:648: ConvergenceWarning: Objective did not converge. You might want to increase the number of iterations, check the scale of the features or consider increasing regularisation. Duality gap: 4.503e+12, tolerance: 1.050e+10\n",
      "  model = cd_fast.enet_coordinate_descent(\n"
     ]
    }
   ],
   "source": [
    "# Estimate AIC, AICc, BIC, as well as 5-fold CV for Lasso regression model using only the training data. we have to mannaully calculate Aic, Aicc and Bic\n",
    "\n",
    "# find mse from training data\n",
    "y_pred_train = model_lasso.predict(x_train)\n",
    "sse = np.sum((y_pred_train - y_train)**2)\n",
    "\n",
    "# getting k and n ready for calculating AIC, AICc and BIC\n",
    "k = len(model_lasso.coef_) + 1\n",
    "n = len(y_train)\n",
    "\n",
    "# AIC\n",
    "aic_lasso = n * np.log(sse / n) + 2 * k\n",
    "\n",
    "# AICc\n",
    "aicc_lasso = aic_lasso + (2 * k * (k + 1)) / (n - k - 1)\n",
    "\n",
    "# BIC\n",
    "bic_lasso = n * np.log(sse / n) + k * np.log(n)\n",
    "\n",
    "print(f'AIC for Lasso model is {aic_lasso}') \n",
    "print(f'AICc for Lasso model is {aicc_lasso}') \n",
    "print(f'BIC for Lasso model is {bic_lasso}') \n",
    "\n",
    "# 5-fold cv\n",
    "fold_5 = KFold(n_splits=5, shuffle = True, random_state= 12)\n",
    "model_lasso_MSRE = cross_val_score(model_lasso, x_train, y_train, cv = fold_5, scoring = make_scorer(mean_squared_error))\n",
    "model_lasso_MSRE = np.mean(model_lasso_MSRE)\n",
    "print(f'Mean Squared Error for Lasso Regression model using training data is {model_lasso_MSRE}.')"
   ]
  },
  {
   "cell_type": "code",
   "execution_count": 25,
   "id": "258a3fe4",
   "metadata": {},
   "outputs": [
    {
     "name": "stdout",
     "output_type": "stream",
     "text": [
      "The deviance on the test data for Linear regression model is 13776307894088.816. \n",
      "\n",
      "The deviance on the test data for Ridge regression model is 13803357137248.117.\n"
     ]
    }
   ],
   "source": [
    "# Estimate the models true OOS performance by computing their deviance on the test data.\n",
    "\n",
    "# linear rergession model\n",
    "y_pred_test_linear = model.predict(sm.add_constant(x_test))\n",
    "linear_model_deviance = deviance(y_test, y_pred_test_linear)\n",
    "\n",
    "# Ridge rergession model\n",
    "y_pred_test_lasso = model_lasso.predict(x_test)\n",
    "lasso_model_deviance = deviance(y_test, y_pred_test_lasso)\n",
    "\n",
    "print(f'The deviance on the test data for Linear regression model is {linear_model_deviance}.','\\n')\n",
    "print(f'The deviance on the test data for Ridge regression model is {lasso_model_deviance}.')"
   ]
  },
  {
   "cell_type": "markdown",
   "id": "e7a13ae6",
   "metadata": {},
   "source": [
    "By comparinig the deviances calucated from both linear regression model and ridge model using test data, we can find that deviance from ridge model is much smaller than that of linear regression model. This finding can also be applied to the AIC, AICc and BIC of both models. Ridge model seems to lower the AIC, AICc and BIC values compared to Linear Regression model. However, the mean squared errors calculated through 5-cross-validation for both models seem to stay unchanged. Overall, by using Ridge Model with an alpha value of 2.0, we can increase our model prediction accuracy."
   ]
  }
 ],
 "metadata": {
  "kernelspec": {
   "display_name": "Python 3 (ipykernel)",
   "language": "python",
   "name": "python3"
  },
  "language_info": {
   "codemirror_mode": {
    "name": "ipython",
    "version": 3
   },
   "file_extension": ".py",
   "mimetype": "text/x-python",
   "name": "python",
   "nbconvert_exporter": "python",
   "pygments_lexer": "ipython3",
   "version": "3.12.1"
  }
 },
 "nbformat": 4,
 "nbformat_minor": 5
}
